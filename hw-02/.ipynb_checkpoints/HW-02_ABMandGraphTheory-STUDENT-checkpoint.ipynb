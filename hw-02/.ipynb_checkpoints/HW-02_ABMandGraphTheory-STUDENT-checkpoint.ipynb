{
 "cells": [
  {
   "cell_type": "markdown",
   "metadata": {},
   "source": [
    "# Homework Assignment 2"
   ]
  },
  {
   "cell_type": "markdown",
   "metadata": {},
   "source": [
    "### <p style=\"text-align: right;\"> &#9989; Zack Willoughby</p>\n",
    "### <p style=\"text-align: right;\"> &#9989; Zwillbeast659</p>"
   ]
  },
  {
   "cell_type": "markdown",
   "metadata": {},
   "source": [
    "## Goals for this homework assignment\n",
    "By the end of this assignment, you should be able to:\n",
    "* Define custom classes and show they are implemented correctly through tests.\n",
    "* Implement agent based models and observe emergent phenomena.\n",
    "* Use Pandas and NetworkX to create, analyze, and visualize graphs.\n",
    "* Read documentation to learn about new code.\n",
    "* Read and understand provided code.\n",
    "\n",
    "Work through the following assignment, making sure to follow all of the directions and answer all of the questions.\n",
    "\n",
    "There are **88 points** possible on this assignment. Point values for each part are included in the section headers and question prompts.\n",
    "\n",
    "**This assignment is due on Friday, October 17th at 11:59pm ET.** It should be uploaded into the \"Homework Assignments\" submission folder for Homework #2.  Submission instructions can be found at the end of the notebook."
   ]
  },
  {
   "cell_type": "markdown",
   "metadata": {},
   "source": [
    "<a id=\"toc\"></a>\n",
    "\n",
    "## Table of contents\n",
    "\n",
    "1. [Part 1: Git and CLI](#git) (8 points)\n",
    "\n",
    "2. [Part 2: Agent based modeling](#abm) (52 points)\n",
    "\n",
    "3. [Part 3: Graph theory](#graph) (28 points)"
   ]
  },
  {
   "cell_type": "markdown",
   "metadata": {},
   "source": [
    "---\n",
    "[Back to ToC](#toc)\n",
    "<a id=\"git\"></a>\n",
    "## Part 1: Add to your Git repository to track your progress on your assignment (8 points)\n",
    "\n",
    "For this assignment, you're going to add it to the `cmse202-f25-turnin` repository you created in class so that you can track your progress on the assignment and preserve the final version that you turn in. In order to do this you need to\n",
    "\n",
    "**&#9989; Do the following**:\n",
    "\n",
    "1. Navigate to your `cmse202-f25-turnin` repository and create a new directory called `hw-02`.\n",
    "2. Move this notebook into that **new directory** in your repository, then **add it and commit it to your repository**.\n",
    "3. Finally, to test that everything is working, \"git push\" the file so that it ends up in your GitHub repository.\n",
    "\n",
    "**Important**: Double check you've added your Professor and your TA as collaborators to your \"turnin\" repository (you should have done this in the previous homework assignment).\n",
    "\n",
    "**Also important**: Make sure that the version of this notebook that you are working on is the same one that you just added to your repository! If you are working on a different copy of the notebook, **none of your changes will be tracked**!\n",
    "\n",
    "If everything went as intended, the file should now show up on your GitHub account in the \"`cmse202-f25-turnin`\" repository inside the `hw-02` directory that you just created.  Periodically, **you'll be asked to commit your changes to the repository and push them to the remote GitHub location**. Of course, you can always commit your changes more often than that, if you wish.  It can be good to get into a habit of committing your changes any time you make a significant modification, or when you stop working on the project for a bit.\n",
    "\n",
    "&#9989; **1.1 Do this**: Before you move on, put the command that your instructor should run to clone your repository in the markdown cell below."
   ]
  },
  {
   "cell_type": "markdown",
   "metadata": {},
   "source": [
    "``` bash\n",
    "#  git clone https://github.com/Zwillbeast659/CMSE202-f25-turnin.git\n",
    "```"
   ]
  },
  {
   "cell_type": "markdown",
   "metadata": {},
   "source": [
    "**You MUST commit and push your notebook multiple times during this assignment.**"
   ]
  },
  {
   "cell_type": "markdown",
   "metadata": {},
   "source": [
    "---\n",
    "[Back to ToC](#toc)\n",
    "<a id=\"abm\"></a>\n",
    "## Part 2: Build an agent based model for Conway's game of life (52 points)\n",
    "\n",
    "Conway's game of life is a classic example of a system with simple rules that exhibits interesting emergent phenomena. In this problem you will implement an ABM to simulate Conway's game of life and explore some of this emergent phenomena.\n",
    "\n",
    "Conway's game of life consists of **cell**s which have a location ($x$ coordinate and $y$ coordinate) and can be alive or dead. Cells interact via the following rules, taken from the [Wikipedia entry](https://en.wikipedia.org/wiki/Conway%27s_Game_of_Life#Rules):\n",
    "\n",
    "1. Any live cell with fewer than two live neighbors dies, as if by underpopulation.\n",
    "1. Any live cell with two or three live neighbors lives on to the next generation.\n",
    "1. Any live cell with more than three live neighbors dies, as if by overpopulation.\n",
    "1. Any dead cell with exactly three live neighbors becomes a live cell, as if by reproduction."
   ]
  },
  {
   "cell_type": "markdown",
   "metadata": {},
   "source": [
    "&#9989; **Question 2.1 (6 points)**: Complete the following `Cell` class provided the template and docstrings. Some methods are completed for you. You may add data or attributes if convenient, but **you must not remove or change any given attributes or methods from the template**."
   ]
  },
  {
   "cell_type": "code",
   "execution_count": 1,
   "metadata": {},
   "outputs": [],
   "source": [
    "# Complete the following class!\n",
    "class Cell:\n",
    "    def __init__(self, x, y, alive=False):\n",
    "        \"\"\"Initializes a Cell.\n",
    "  \n",
    "        Args:\n",
    "            x (int): The x-coordinate of the cell.\n",
    "            y (int): The y-coordinate of the cell.\n",
    "            alive (bool): Whether the cell is alive (True) or dead (False).\n",
    "        \"\"\"\n",
    "        # Do not modify this method!\n",
    "        self.x = x\n",
    "        self.y = y\n",
    "        self.alive = alive\n",
    "\n",
    "    def is_alive(self):\n",
    "        \"\"\"Returns True if the cell is alive, else returns False.\"\"\"\n",
    "        return self.alive\n",
    "\n",
    "    def kill(self):\n",
    "        \"\"\"Sets the Cell's alive attribute to False. Does not return a value.\"\"\"\n",
    "        self.alive = False\n",
    "\n",
    "    def live(self):\n",
    "        \"\"\"Sets the Cell's alive attribute to True. Does not return a value.\"\"\"\n",
    "        self.alive = True\n",
    "\n",
    "    def copy(self):\n",
    "        \"\"\"Returns a copy of the Cell - that is, returns a new Cell with the \n",
    "        same x, y, and alive attributes.\n",
    "        \"\"\"\n",
    "        return Cell(self.x, self.y, self.alive)\n",
    "\n",
    "    def has_same_location(self, other):\n",
    "        \"\"\"Returns True if the other Cell has the same location as this Cell, else returns False.\n",
    "\n",
    "        Args:\n",
    "            other (Cell): The other Cell to compare locations with.\n",
    "        \"\"\"\n",
    "        return isinstance(other, Cell) and self.x == other.x and self.y == other.y\n",
    "\n",
    "    def __eq__(self, other):\n",
    "        \"\"\"Returns True if the other Cell is equal to this cell, else returns False.\n",
    "\n",
    "        Two cells are equal if they have they same x, y, and alive attributes.\n",
    "\n",
    "        Args:\n",
    "            other (Cell): The other Cell to check equality with.\n",
    "        \"\"\"\n",
    "        return (\n",
    "            isinstance(other, Cell) and\n",
    "            self.x == other.x and\n",
    "            self.y == other.y and\n",
    "            self.alive == other.alive\n",
    "        )\n",
    "\n",
    "    def __repr__(self):\n",
    "        \"\"\"Returns a representation of the cell, useful for printing/displaying \n",
    "        in notebooks.\n",
    "        \"\"\"\n",
    "        # Do not modify this method!\n",
    "        return f\"Cell(x={self.x}, y={self.y}, alive={self.alive})\""
   ]
  },
  {
   "cell_type": "markdown",
   "metadata": {},
   "source": [
    "&#9989; **Question 2.2 (4 points)**: Run the following code cell to show your `Cell` class passes the following tests. Add (at least) one more test for correct behavior and show your test passes using `assert` similar to the provided tests. (Note that the syntax [assert statement](https://realpython.com/python-assert-statement/) raises an error if `statement` is `False`, and otherwise does nothing. This is both an intuitive and powerful way to test code.)"
   ]
  },
  {
   "cell_type": "code",
   "execution_count": 2,
   "metadata": {},
   "outputs": [],
   "source": [
    "cell = Cell(0, 0, alive=True)\n",
    "assert cell.x == 0\n",
    "assert cell.y == 0\n",
    "assert cell.is_alive()\n",
    "\n",
    "cell.kill()\n",
    "assert not cell.is_alive()\n",
    "\n",
    "cell.live()\n",
    "assert cell.is_alive()\n",
    "\n",
    "copy = cell.copy()\n",
    "assert copy == cell  # Note: The Python syntax `a == b` is shorthand for calling `a.__eq__(b)`.\n",
    "assert copy is not cell\n",
    "\n",
    "# Your code here. (Add another test for correctness with the Cell class.)\n",
    "cell = Cell(1, 1, alive=True)\n",
    "assert cell.x == 1\n",
    "assert cell.y == 1\n",
    "assert cell.is_alive()\n",
    "\n",
    "cell.kill()\n",
    "assert not cell.is_alive()\n",
    "\n",
    "cell.live()\n",
    "assert cell.is_alive()\n",
    "\n",
    "copy = cell.copy()\n",
    "assert copy == cell\n",
    "assert copy is not cell"
   ]
  },
  {
   "cell_type": "markdown",
   "metadata": {},
   "source": [
    "&#9989; **Question 2.3 (16 points)**: Complete the following `Board` class provided the template and docstrings. This class consists of a collection of `Cell`s and represents the ABM. Some methods are completed for you. You may add data or attributes if convenient, but **you must not remove or change any given attributes or methods from the template**.\n",
    "\n",
    "Note: You are strongly encouraged to implement methods from first to last as organized in the class, implementing one method at a time and carefully checking your code. Subsequent questions provide tests which can be used to check correctness."
   ]
  },
  {
   "cell_type": "code",
   "execution_count": 3,
   "metadata": {},
   "outputs": [],
   "source": [
    "# Complete the following class!\n",
    "import matplotlib.pyplot as plt\n",
    "from matplotlib.patches import Patch\n",
    "\n",
    "\n",
    "class Board:\n",
    "    def __init__(self, cells):\n",
    "        \"\"\"Initializes a Board.\n",
    "\n",
    "        Args:\n",
    "            cells (list[Cell]): A list of Cell's.\n",
    "        \"\"\"\n",
    "        # Do not modify this method!\n",
    "        self.cells = {}\n",
    "        for cell in cells:\n",
    "            self.add_cell(cell)\n",
    "\n",
    "    def add_cell(self, cell):\n",
    "        \"\"\"Adds a new Cell to the board. Does not return a value.\n",
    "\n",
    "        Args:\n",
    "            cell (Cell): The new cell to add to the board.\n",
    "\n",
    "        Raises:\n",
    "            ValueError: If the board already contains a Cell at the provided Cell's location.\n",
    "        \"\"\"\n",
    "        # Do not modify this method!\n",
    "        if (cell.x, cell.y) in self.cells.keys():\n",
    "            raise ValueError(\n",
    "                f\"Board already has a cell at the same location of the provided {cell}.\"\n",
    "            )\n",
    "        self.cells[(cell.x, cell.y)] = cell\n",
    "\n",
    "    def get_cell_at(self, x, y):\n",
    "        \"\"\"Returns the Cell located at (x, y) on the Board if there is one, else returns None.\n",
    "\n",
    "        Args:\n",
    "            x (int): The x-coordinate of the Cell to get.\n",
    "            y (int): The y-coordinate of the Cell to get.\n",
    "        \"\"\"\n",
    "        return self.cells.get((x, y), None)\n",
    "\n",
    "    def get_cells(self):\n",
    "        \"\"\"Returns a list of all Cell's on the Board.\"\"\"\n",
    "        return list(self.cells.values())\n",
    "\n",
    "    def get_alive_cells(self):\n",
    "        \"\"\"Returns a list of Cell's on the Board which are alive.\"\"\"\n",
    "        return [cell for cell in self.cells.values() if cell.alive]\n",
    "\n",
    "    def copy(self):\n",
    "        \"\"\"Returns a copy of the Board - that is, a new Board with a copy of all Cell's in the current board.\"\"\"\n",
    "        return Board([cell.copy() for cell in self.get_cells()])\n",
    "    \n",
    "    def get_neighbors(self, x: int, y: int):\n",
    "        \"\"\"Returns the neighboring Cell's at the provided (x, y) location on the Board.\n",
    "\n",
    "        There are eight potential neighbors of the point (x, y), shown in the following diagram\n",
    "        (excluding the center (x, y) point):\n",
    "\n",
    "              |----------------------------------------------| \n",
    "              | (x - 1, y + 1) | (x, y + 1) | (x + 1, y + 1) |\n",
    "              |----------------------------------------------|\n",
    "              |  (x - 1, y)    |   (x, y)   |   (x + 1, y)   |\n",
    "              |----------------------------------------------|\n",
    "              | (x - 1, y - 1) | (x, y - 1) | (x + 1, y - 1) |\n",
    "              |----------------------------------------------|\n",
    "\n",
    "        Args:\n",
    "            x (int): The x-coordinate of the Board.\n",
    "            y (int): The y-coordinate of the Board.\n",
    "\n",
    "        Returns:\n",
    "            A list of neighboring Cell's.\n",
    "\n",
    "        Examples:\n",
    "\n",
    "            ```python\n",
    "            board = Board([Cell(-1, 0), Cell(0, 0), Cell(1, 1)])\n",
    "            board.get_neighbors(0, 0)    # [Cell(x=-1, y=0, alive=False), Cell(x=1, y=1, alive=False)]\n",
    "            board.get_neighbors(-1, 0)   # [Cell(x=0, y=0, alive=False)]\n",
    "            board.get_neighbors(2, 2)    # [Cell(x=1, y=1, alive=False)]\n",
    "            board.get_neighbors(10, 10)  # []\n",
    "            ```\n",
    "        \"\"\"\n",
    "        directions = [\n",
    "            (-1, -1), (0, -1), (1, -1),\n",
    "            (-1, 0),          (1, 0),\n",
    "            (-1, 1),  (0, 1), (1, 1),\n",
    "        ]\n",
    "        neighbors = []\n",
    "        for dx, dy in directions:\n",
    "            neighbor = self.get_cell_at(x + dx, y + dy)\n",
    "            if neighbor:\n",
    "                neighbors.append(neighbor)\n",
    "        return neighbors\n",
    "\n",
    "    def get_alive_neighbors(self, x, y):\n",
    "        \"\"\"Returns the alive neighboring cells at the (x, y) location on the Board.\n",
    "\n",
    "        Args:\n",
    "            x (int): The x-coordinate of the Board.\n",
    "            y (int): The y-coordinate of the Board.\n",
    "\n",
    "        Returns:\n",
    "            A list of neighboring Cell's which are alive.\n",
    "        \n",
    "        Note: See Board.get_neighbors for an explanation of neighbors.\n",
    "        \"\"\"\n",
    "        return [n for n in self.get_neighbors(x, y) if n.alive]\n",
    "\n",
    "    def run(self):\n",
    "        \"\"\"Advances the simulation by one time step, modifying the cells of the board.\n",
    "        Does not return a value.\n",
    "\n",
    "        Update rules:\n",
    "            1. Any live cell with fewer than two live neighbors dies, as if by underpopulation.\n",
    "            2. Any live cell with two or three live neighbors lives on to the next generation.\n",
    "            3. Any live cell with more than three live neighbors dies, as if by overpopulation.\n",
    "            4. Any dead cell with exactly three live neighbors becomes a live cell, as if by reproduction.\n",
    "        \"\"\"\n",
    "        new_board = self.copy()  # Work on a copy to avoid interference\n",
    "\n",
    "        to_check = set((cell.x, cell.y) for cell in self.get_cells())\n",
    "        for cell in self.get_cells():\n",
    "            for n in self.get_neighbors(cell.x, cell.y):\n",
    "                to_check.add((n.x, n.y))\n",
    "\n",
    "        for x, y in to_check:\n",
    "            cell = new_board.get_cell_at(x, y)\n",
    "            alive_neighbors = len(self.get_alive_neighbors(x, y))\n",
    "\n",
    "            if cell and cell.alive:\n",
    "                if alive_neighbors < 2 or alive_neighbors > 3:\n",
    "                    cell.kill()\n",
    "            else:\n",
    "                if alive_neighbors == 3:\n",
    "                    if not cell:\n",
    "                        new_board.add_cell(Cell(x, y, alive=True))\n",
    "                    else:\n",
    "                        cell.live()\n",
    "\n",
    "        self.cells = new_board.cells\n",
    "\n",
    "    def show(self, alive_color=\"green\", dead_color=\"white\", markersize=500, xlim=None, ylim=None):\n",
    "        \"\"\"Plots the state of the board.\n",
    "\n",
    "        Args:\n",
    "            alive_color (str): Color for alive cells.\n",
    "            dead_color (str): Color for dead cells.\n",
    "            markersize (int): Size of markers.\n",
    "            xlim (tuple(int)): The x limits for the plot.\n",
    "            ylim (tuple(int)): The y limits for the plot.\n",
    "        \"\"\"\n",
    "        # Do not modify this method!\n",
    "        for cell in self.get_cells():\n",
    "            plt.scatter(\n",
    "                cell.x,\n",
    "                cell.y,\n",
    "                marker=\"s\",\n",
    "                s=markersize,\n",
    "                color=alive_color if cell.alive else dead_color,\n",
    "                edgecolor=\"black\",\n",
    "                zorder=2,\n",
    "            )\n",
    "        plt.legend(\n",
    "            handles=[\n",
    "                Patch(facecolor=dead_color, edgecolor=\"black\", label=\"Dead cell\"),\n",
    "                Patch(facecolor=alive_color, edgecolor=\"black\", label=\"Alive cell\")\n",
    "            ],\n",
    "            bbox_to_anchor=(1.25, 1)\n",
    "        )\n",
    "        plt.grid()\n",
    "        if xlim:\n",
    "            plt.xlim(xlim)\n",
    "            plt.xticks(range(xlim[0], xlim[1] + 1, 1))\n",
    "        if ylim:\n",
    "            plt.ylim(ylim)\n",
    "            plt.yticks(range(ylim[0], ylim[1] + 1, 1))"
   ]
  },
  {
   "cell_type": "markdown",
   "metadata": {},
   "source": [
    "&#9989; **Question 2.4 (2 points)**: The first test of your `Board` class is to initialize and show a board. Create a simple `Board` with an alive cell at (0, 0), a dead cell at (0, 1), and an alive cell at (1, 1). Use the `show` method to show that your board is correct."
   ]
  },
  {
   "cell_type": "code",
   "execution_count": 4,
   "metadata": {},
   "outputs": [
    {
     "data": {
      "image/png": "[encoded data removed]",
      "text/plain": [
       "<Figure size 640x480 with 1 Axes>"
      ]
     },
     "metadata": {},
     "output_type": "display_data"
    }
   ],
   "source": [
    "# Your code here.\n",
    "cells = [\n",
    "    Cell(0, 0, alive=True),   # Alive cell at (0, 0)\n",
    "    Cell(0, 1, alive=False),  # Dead cell at (0, 1)\n",
    "    Cell(1, 1, alive=True),   # Alive cell at (1, 1)\n",
    "]\n",
    "\n",
    "board = Board(cells)\n",
    "\n",
    "board.show(xlim=(-1, 2), ylim=(-1, 2))\n",
    "plt.show()"
   ]
  },
  {
   "cell_type": "markdown",
   "metadata": {},
   "source": [
    "&#9989; **Question 2.5 (6 points)**: Using the provided random state (**Don't change this!**):\n",
    "\n",
    "1. Create a `Board` with `Cell`s at locations (x, y) for all $x$ in the range 0 to 10 and for all $y$ in the range 0 to 10. (This means there should be 100 total `Cell`s.) At all $x$, $y$ coordinates, cells should be alive or dead according to `Cell(x, y, alive=rng.randint(0, 2))`, using the provided random state `rng`.\n",
    "2. Run the simulation for 32 iterations and show the board after each iteration, putting the title \"Timestep t\" (where t is the current timestep) on the plot. Note that code is provided for you to clear and update the figure from one timestep to the next.\n",
    "3. There should be four alive cells remaining at the end of the simulation. Will these cells stay alive forever? Why or why not?"
   ]
  },
  {
   "cell_type": "code",
   "execution_count": null,
   "metadata": {},
   "outputs": [
    {
     "data": {
      "image/png": "[encoded data removed]",
      "text/plain": [
       "<Figure size 640x480 with 1 Axes>"
      ]
     },
     "metadata": {},
     "output_type": "display_data"
    }
   ],
   "source": [
    "import time\n",
    "import numpy as np\n",
    "from IPython.display import display, clear_output\n",
    "\n",
    "rng = np.random.RandomState(1)\n",
    "\n",
    "# Initialize the board with random alive/dead cells\n",
    "cells = []\n",
    "for x in range(0, 10):\n",
    "    for y in range(0, 10):\n",
    "        alive = bool(rng.randint(0, 2))\n",
    "        cells.append(Cell(x, y, alive))\n",
    "\n",
    "board = Board(cells)\n",
    "\n",
    "# Animate 32 steps\n",
    "fig, ax = plt.subplots()\n",
    "for t in range(32 + 1):\n",
    "    plt.title(f\"Timestep {t}\")\n",
    "    board.show(xlim=(-1, 11), ylim=(-1, 11))\n",
    "\n",
    "    clear_output(wait=True)  # Clear output for dynamic display\n",
    "    display(fig)             # Reset display\n",
    "    fig.clear()              # Prevent overlapping and layered plots\n",
    "    time.sleep(0.1)          # Delay between frames\n",
    "\n",
    "    board.run();"
   ]
  },
  {
   "cell_type": "markdown",
   "metadata": {},
   "source": [
    "**<font size=+3>&#9998;</font> Yes these cells should stay alive indefinitely, they are always meeting the criteria to stay alive, unless more cells come next to them.**"
   ]
  },
  {
   "cell_type": "markdown",
   "metadata": {},
   "source": [
    "&#9989; **Question 2.6 (4 points)**: There are several configurations which persist indefinitely in Conway's game of life. One of them is a \"blinker\". Create a three by three array of cells with only the middle row alive. Advance the simulation ten time steps and show that the pattern repeats every two time steps."
   ]
  },
  {
   "cell_type": "code",
   "execution_count": null,
   "metadata": {},
   "outputs": [],
   "source": [
    "# Your code here.\n",
    "cells = [\n",
    "    Cell(0, 1, True),\n",
    "    Cell(1, 1, True),\n",
    "    Cell(2, 1, True)\n",
    "] + [\n",
    "    Cell(x, y, False)\n",
    "    for x in range(0, 3)\n",
    "    for y in range(0, 3)\n",
    "    if (x, y) not in [(0,1),(1,1),(2,1)]\n",
    "]\n",
    "\n",
    "board = Board(cells)\n",
    "\n",
    "fig, ax = plt.subplots()\n",
    "for t in range(11):  # Show timestep 0 to 10\n",
    "    plt.title(f\"Timestep {t}\")\n",
    "    board.show(xlim=(-1, 3), ylim=(-1, 3))\n",
    "\n",
    "    clear_output(wait=True)\n",
    "    display(fig)\n",
    "    fig.clear()\n",
    "    time.sleep(0.3)\n",
    "\n",
    "    board.run();"
   ]
  },
  {
   "cell_type": "markdown",
   "metadata": {},
   "source": [
    "&#9989; **Question 2.7 (4 points)**: Other configurations travel across the board. One of these is a \"glider\". Create a square ten by ten array of cells with coordinates (0, 0), (0, 1), ..., (0, 9), (1, 0), (1, 1), ..., (1, 0), ..., (9, 0), (9, 1), ..., (9, 9). All cells should be dead except those with coordinates (0, 7), (1, 7), (2, 7), (2, 8), and (1, 9). Run the simulation and show that your glider advances from the top left to the lower right, retaining the same configuration. How many timesteps does it take for the glider to reach the lower right with the same shape as the initial glider? Set the total number of timesteps to this number."
   ]
  },
  {
   "cell_type": "code",
   "execution_count": null,
   "metadata": {},
   "outputs": [],
   "source": [
    "# Your code here.\n",
    "cells = [Cell(x, y, False) for x in range(10) for y in range(10)]\n",
    "\n",
    "alive_coords = [(0, 7), (1, 7), (2, 7), (2, 8), (1, 9)]\n",
    "for x, y in alive_coords:\n",
    "    for cell in cells:\n",
    "        if cell.x == x and cell.y == y:\n",
    "            cell.live()\n",
    "\n",
    "board = Board(cells)\n",
    "\n",
    "# Function to get current alive cell positions\n",
    "def get_alive_positions(board):\n",
    "    return sorted([(cell.x, cell.y) for cell in board.get_alive_cells()])\n",
    "\n",
    "# Initial shape for comparison\n",
    "initial_shape = get_alive_positions(board)\n",
    "\n",
    "fig, ax = plt.subplots()\n",
    "for t in range(1, 35):\n",
    "    plt.title(f\"Timestep {t}\")\n",
    "    board.show(xlim=(0, 10), ylim=(0, 10))\n",
    "    \n",
    "    clear_output(wait=True)\n",
    "    display(fig)\n",
    "    fig.clear()\n",
    "    time.sleep(0.2)\n",
    "    \n",
    "    board.run();"
   ]
  },
  {
   "cell_type": "markdown",
   "metadata": {},
   "source": [
    "&#9989; **Question 2.8 (6 points)**: If your simulation exhibits the correct behavior for the previous two questions, it's likely (though not guarunteed) that your implementation is correct. Now, we can study behavior for random initial configurations.\n",
    "\n",
    "Given the following random state, board dimensions (`xdim` and `ydim`), and total number of time steps, do the following.\n",
    "\n",
    "For each initial probability of a cell being alive $p$ in the given list:\n",
    "\n",
    "1. Create the board where each cell is alive with probability $p$.\n",
    "\n",
    "Then, for each time step:\n",
    "\n",
    "2. Record the fraction of cells alive.\n",
    "3. Advance the simulation.\n",
    "\n",
    "Make a plot of fraction of cells alive (vertical axis) vs time step (horizontal axis), with one curve for each probability $p$."
   ]
  },
  {
   "cell_type": "code",
   "execution_count": null,
   "metadata": {},
   "outputs": [],
   "source": [
    "import numpy as np\n",
    "\n",
    "\n",
    "rng = np.random.RandomState(1)\n",
    "\n",
    "xdim = 20\n",
    "ydim = 20\n",
    "time_steps = 100\n",
    "alive_probabilities = [0.0, 0.1, 0.2, 0.3, 0.4, 0.5, 0.6]\n",
    "\n",
    "all_fractions = {}\n",
    "\n",
    "for p in alive_probabilities:\n",
    "    cells = []\n",
    "    for x in range(xdim):\n",
    "        for y in range(ydim):\n",
    "            alive = rng.rand() < p\n",
    "            cells.append(Cell(x, y, alive))\n",
    "    board = Board(cells)\n",
    "    \n",
    "    alive_fractions = []\n",
    "    \n",
    "    for t in range(time_steps):\n",
    "        alive_count = len(board.get_alive_cells())\n",
    "        alive_fractions.append(alive_count / (xdim * ydim))\n",
    "        \n",
    "        board.run()\n",
    "    \n",
    "    all_fractions[p] = alive_fractions\n",
    "\n",
    "plt.figure(figsize=(10, 6))\n",
    "for p, fractions in all_fractions.items():\n",
    "    plt.plot(fractions, label=f\"p={p}\")\n",
    "\n",
    "plt.xlabel(\"Time Step\")\n",
    "plt.ylabel(\"Fraction of Cells Alive\")\n",
    "plt.title(\"Conway's Game of Life: Alive Fraction Over Time\")\n",
    "plt.legend()\n",
    "plt.grid(True)\n",
    "plt.show()"
   ]
  },
  {
   "cell_type": "markdown",
   "metadata": {},
   "source": [
    "&#9989; **Question 2.9 (4 points)**: Interpret your results from the previous question:\n",
    "\n",
    "1. What values of $p$ have the highest fraction of alive cells throughout the simulation? Does this make sense based on the rules of Conway's game of life?\n",
    "2. Do all curves tend to zero? Why or why not?"
   ]
  },
  {
   "cell_type": "markdown",
   "metadata": {},
   "source": [
    "**<font size=+3>&#9998;</font> p=.04 and p=.06 seem to have the highest fraction of alive cells. This does make sense within the rules of conway's game of life, because p=.4-.6 creates either oscillators or stabilize. Not all curves tend to 0, only the p values that are fairly low seem to completely die off after 100 timesteps.**"
   ]
  },
  {
   "cell_type": "markdown",
   "metadata": {},
   "source": [
    "---\n",
    "### &#128721; STOP\n",
    "**Pause to commit your changes to your Git repository!**\n",
    "\n",
    "Take a moment to save your notebook, commit the changes to your Git repository using the commit message \"Committing Part 2\", and push the changes to GitHub.\n",
    "\n",
    "---"
   ]
  },
  {
   "cell_type": "markdown",
   "metadata": {},
   "source": [
    "---\n",
    "[Back to ToC](#toc)\n",
    "<a id=\"graph\"></a>\n",
    "## Part 3: Graph theory with transportation data (28 points)\n",
    "\n",
    "In this part of the homework, we will look at a dataset which contains the whole UK public transport system for a week in October 2010 [[1](https://doi.org/10.1038/srep38994), [2](https://doi.org/10.1038/sdata.2014.56), [data file](https://datadryad.org/stash/dataset/doi:10.5061/dryad.pc8m3)]. We will model this data as a graph where each team is terminal where travel starts/stops is a node. We will later add directionarlity to capture the departure arrival relationship, and weights on edges that represent travel time. "
   ]
  },
  {
   "cell_type": "markdown",
   "metadata": {},
   "source": [
    "&#9989;  **Question 3.1 (3 points)**: Go to [this website](https://datadryad.org/stash/dataset/doi:10.5061/dryad.pc8m3) and download the full data set. Unpack the .zip file into your working directory. The data we need is in the folder Data_Release_v1.11. After you unzip the folder, you will see edges.csv and nodes.csv, plus some other files. The former two are the ones we will primarily work with here. \n",
    "\n",
    "**Do This:** Load the nodes.csv and edges.csv in this file into `Pandas` `DataFrames`. Display the first few and last few rows of each. "
   ]
  },
  {
   "cell_type": "code",
   "execution_count": null,
   "metadata": {},
   "outputs": [],
   "source": [
    "# Your code here.\n",
    "import pandas as pd\n",
    "nodes = pd.read_csv('nodes.csv')\n",
    "edges = pd.read_csv('edges.csv')\n",
    "\n",
    "print(nodes)\n",
    "print(edges)"
   ]
  },
  {
   "cell_type": "markdown",
   "metadata": {},
   "source": [
    "Now, you will construct a graph of the nodes (stops). \n",
    "\n",
    "&#9989;  **Question 3.2 (5 points)**: Create an empty (undirected, unweighted)`Graph` object from the `networkx` package. For each row of the `DataFrame` where both the destination and origin are associated to \"Rail,\" i.e., the integer 2 in both ori_layer and des_layer of edges.csv, add an edge between the origin (ori_node) and the destination (des_node) nodes.  "
   ]
  },
  {
   "cell_type": "code",
   "execution_count": null,
   "metadata": {},
   "outputs": [],
   "source": [
    "# Your code here.\n",
    "import networkx as nx\n",
    "\n",
    "G = nx.Graph()\n",
    "\n",
    "# Filter edges where both origin and destination layers are Rail (2)\n",
    "rail_edges = edges[(edges['ori_layer'] == 2) & (edges['des_layer'] == 2)]\n",
    "\n",
    "# Add edges to the graph\n",
    "for _, row in rail_edges.iterrows():\n",
    "    G.add_edge(row['ori_node'], row['des_node'])"
   ]
  },
  {
   "cell_type": "markdown",
   "metadata": {},
   "source": [
    "Plotting the graph. \n",
    "\n",
    "&#9989;  **Question 3.3 (5 points)**: Plot the graph using the latitude and longitude of each node as its position, labeled by the columns lat and lon, respectively in nodes.csv."
   ]
  },
  {
   "cell_type": "code",
   "execution_count": null,
   "metadata": {},
   "outputs": [],
   "source": [
    "# Your code here.\n",
    "nodes_in_graph = nodes[nodes['node'].isin(G.nodes())]\n",
    "\n",
    "# Create position dictionary: {node_id: (lon, lat)} \n",
    "# (lon first because matplotlib treats x=longitude, y=latitude)\n",
    "pos = {row['node']: (row['lon'], row['lat']) for _, row in nodes_in_graph.iterrows()}\n",
    "\n",
    "# --- Plot ---\n",
    "plt.figure(figsize=(10, 8))\n",
    "nx.draw(G, pos, node_size=10, edge_color=\"gray\", linewidths=0.5, with_labels=False)\n",
    "plt.title(\"Rail Network (Layer 2) by Geographic Position\")\n",
    "plt.xlabel(\"Longitude\")\n",
    "plt.ylabel(\"Latitude\")\n",
    "plt.show()"
   ]
  },
  {
   "cell_type": "markdown",
   "metadata": {},
   "source": [
    "Next, you will construct the weighted directed graph to represent this data. \n",
    "\n",
    "&#9989;  **Question 3.4 (5 points)**: Create an empty `DiGraph` object from the `networkx` package. For each row of the `DataFrame`where both the destination and origin are associated to \"Rail,\" i.e., the integer 2 in both ori_layer and des_layer of edges.csv, add a directed edge from the node corresponding to the origin node (ori_node) to the destination_node (des_node). \n",
    "\n",
    "For directed graphs, the parameter *weight* can be used to specify the weight of each edge. Use the kilometers distance (`km` in edges.csv) between the origin and destination nodes as the weight for each edge.\n",
    "\n",
    "Note: Remember that each edge in a directed graph has an orientation. So adding an edge from node A to node B is not the same thing as adding an edge from node B to node A. "
   ]
  },
  {
   "cell_type": "code",
   "execution_count": null,
   "metadata": {},
   "outputs": [],
   "source": [
    "# Your code here.\n",
    "DG = nx.DiGraph()\n",
    "\n",
    "# Filter edges where both origin and destination layers are Rail (2)\n",
    "rail_edges = edges[(edges['ori_layer'] == 2) & (edges['des_layer'] == 2)]\n",
    "\n",
    "# Add directed weighted edges\n",
    "for _, row in rail_edges.iterrows():\n",
    "    DG.add_edge(row['ori_node'], row['des_node'], weight=row['km'])"
   ]
  },
  {
   "cell_type": "markdown",
   "metadata": {},
   "source": [
    "&#9989;  **Question 3.5 (5 points)**: Plot the directed graph using the spring_layout option, __not the spatial coordinates you used in 3.4.__, for nodes' positions."
   ]
  },
  {
   "cell_type": "code",
   "execution_count": null,
   "metadata": {},
   "outputs": [],
   "source": [
    "# Your code here.\n",
    "pos = nx.spring_layout(DG, seed=42)\n",
    "\n",
    "# Draw nodes\n",
    "plt.figure(figsize=(12, 8))\n",
    "nx.draw_networkx_nodes(DG, pos, node_size=50, node_color='blue')\n",
    "\n",
    "# Draw edges with arrows\n",
    "nx.draw_networkx_edges(DG, pos, edge_color='gray', width=1)\n",
    "\n",
    "plt.title(\"Directed Rail Network (Spring Layout)\")\n",
    "plt.axis('off')\n",
    "plt.show()"
   ]
  },
  {
   "cell_type": "markdown",
   "metadata": {},
   "source": [
    "&#9989;  **Question 3.6 (5 points)**: When making travel plans for individuals and freight, it is often helpful to find the shortest path from origin to destination stations. Write code that identifies the shortest path between two points and then prints out the ID for each of the nodes along the path.\n",
    "\n",
    "Specifically, make a function that takes in the directed graph that you created along with two nodes representing the origin and destination stations, and then prints a sequence of statements of the form \"Take [origin_nodeID] to [destination_nodeID]\" which can be used to make travel plans along the shortest path from the origin to the destination`. For multiple transitions, the code must print out the sequence of statements \"Take [origin_nodeID]{i} to [destination_nodeID]{i+1}\".\n",
    "\n",
    "Make sure to include an error in case a path does not exist between the requested source and origin. See the documentation on [Exceptions](https://networkx.org/documentation/stable/reference/exceptions.html) in networkx to find an appropriate exception to raise."
   ]
  },
  {
   "cell_type": "code",
   "execution_count": null,
   "metadata": {},
   "outputs": [],
   "source": [
    "# Fill out the following function.\n",
    "def find_itinerary(digraph, origin_nodeID, destination_nodeID):\n",
    "    pass"
   ]
  },
  {
   "cell_type": "code",
   "execution_count": null,
   "metadata": {},
   "outputs": [],
   "source": [
    "# Use this command to test your code.\n",
    "find_itinerary(DG, origin_nodeID=1, destination_nodeID=169164)"
   ]
  },
  {
   "cell_type": "markdown",
   "metadata": {},
   "source": [
    "---\n",
    "### &#128721; STOP\n",
    "**Pause to commit your changes to your Git repository!**\n",
    "\n",
    "Take a moment to save your notebook, commit the changes to your Git repository using the commit message \"Committing Part 3\", and push the changes to GitHub.\n",
    "\n",
    "---"
   ]
  },
  {
   "cell_type": "markdown",
   "metadata": {},
   "source": [
    "[Back to ToC](#toc)"
   ]
  },
  {
   "cell_type": "markdown",
   "metadata": {},
   "source": [
    "### Congratulations, you're done!\n",
    "\n",
    "Submit this assignment by uploading it to the course Desire2Learn web page.  Go to the \"Homework Assignments\" folder, find the dropbox link for Homework #2, and upload **your notebook** there."
   ]
  },
  {
   "cell_type": "markdown",
   "metadata": {},
   "source": [
    "&#169; Copyright 2025,  Department of Computational Mathematics, Science and Engineering at Michigan State University"
   ]
  }
 ],
 "metadata": {
  "anaconda-cloud": {},
  "kernelspec": {
   "display_name": "Python 3.12 (default)",
   "language": "python",
   "name": "python3"
  },
  "language_info": {
   "codemirror_mode": {
    "name": "ipython",
    "version": 3
   },
   "file_extension": ".py",
   "mimetype": "text/x-python",
   "name": "python",
   "nbconvert_exporter": "python",
   "pygments_lexer": "ipython3",
   "version": "3.12.11"
  }
 },
 "nbformat": 4,
 "nbformat_minor": 4
}
